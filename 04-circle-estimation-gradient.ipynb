{
 "cells": [
  {
   "cell_type": "markdown",
   "id": "2324a635-2db4-48a3-8720-21ba4f1727e1",
   "metadata": {},
   "source": [
    "# 04-circle-estimation-gradient\n",
    "\n",
    "> Start point : [docs.pytorch.org - beginner - Learning PyTorch with Examples](https://docs.pytorch.org/tutorials/beginner/pytorch_with_examples.html)) dealing with polynomial estimation of sin(x)\n",
    "\n",
    "Estimate circle parameters using gradient descent with manual derivation (before testing autograd from pytorch).\n"
   ]
  },
  {
   "cell_type": "code",
   "execution_count": 2,
   "id": "b418932c-64fe-4d5e-9171-d08840ea6d74",
   "metadata": {},
   "outputs": [
    {
     "name": "stdout",
     "output_type": "stream",
     "text": [
      "Losses :\n",
      "0 75023.09140670538\n",
      "1000 144.90277354276657\n",
      "2000 9.95904949663322\n",
      "3000 0.7018384326985441\n",
      "4000 0.04954827604913348\n",
      "5000 0.003498440409604342\n",
      "6000 0.0002470155720537548\n",
      "7000 1.7441108418836393e-05\n",
      "8000 1.2314819670677934e-06\n",
      "9000 8.695587183638054e-08\n",
      "Result :\n",
      "cx=2.000000000000011\n",
      "cy=3.000000000006813\n",
      "r=4.999999999995356\n",
      "losse=6.193410229116125e-09\n"
     ]
    }
   ],
   "source": [
    "# -*- coding: utf-8 -*-\n",
    "import numpy as np\n",
    "import math\n",
    "import matplotlib.pyplot as plt\n",
    "\n",
    "# Create N points on circle with cx=2, cy=3 and r=5\n",
    "N=2000\n",
    "theta=np.linspace(0, math.pi, N)\n",
    "x = 2 + 5 * np.cos(theta)\n",
    "y = 3 + 5 * np.sin(theta)\n",
    "\n",
    "# Randomly initialize weights\n",
    "cx = np.random.randn()\n",
    "cy = np.random.randn()\n",
    "r  = np.random.randn()\n",
    "\n",
    "print('Losses :')\n",
    "num_epoch=10000\n",
    "learning_rate = 1e-7\n",
    "for t in range(num_epoch):\n",
    "    v_cx = np.full(N, cx)\n",
    "    v_cy = np.full(N, cy)\n",
    "    v_r = np.full(N, r)\n",
    "\n",
    "    # Compute and print loss\n",
    "    # Ek = ( ( xk - cx )^2 + ( yk - cy )^2 - r^2 )^2\n",
    "    deltas = np.square( x - v_cx ) + np.square( y - v_cy ) - np.square( v_r )\n",
    "    losse = deltas.sum()\n",
    "    if t % 1000 == 0:\n",
    "        print(t, losse)\n",
    "\n",
    "    # Backprop to compute gradients of cx, cy and r with respect to loss\n",
    "\n",
    "    # dEk / dcx = - 4 * ( xk - cx ) * ( ( xk - cx )^2 + ( yk - cy )^2 - r^2 )\n",
    "    # dEk / dcy = - 4 * ( yk - cy ) * ( ( xk - cx )^2 + ( yk - cy )^2 - r^2 )\n",
    "    # dEk / dr  =          - 4 * r  * ( ( xk - cx )^2 + ( yk - cy )^2 - r^2 )\n",
    "    \n",
    "    grad_cx = ( -4 * ( x - v_cx ) * deltas ).sum()\n",
    "    grad_cy = ( -4 * ( y - v_cy ) * deltas ).sum()\n",
    "    grad_r  = ( -4 * r * deltas ).sum()\n",
    "\n",
    "    # Update weights\n",
    "    cx -= learning_rate * grad_cx\n",
    "    cy -= learning_rate * grad_cy\n",
    "    r -= learning_rate * grad_r\n",
    "\n",
    "print('Result :')\n",
    "print(f'cx={cx}')\n",
    "print(f'cy={cy}')\n",
    "print(f'r={r}')\n",
    "print(f'losse={losse}')\n",
    "\n"
   ]
  },
  {
   "cell_type": "code",
   "execution_count": null,
   "id": "7b032cac-481a-4541-957d-bd10133bfd9d",
   "metadata": {},
   "outputs": [],
   "source": []
  }
 ],
 "metadata": {
  "kernelspec": {
   "display_name": "Python 3 (ipykernel)",
   "language": "python",
   "name": "python3"
  },
  "language_info": {
   "codemirror_mode": {
    "name": "ipython",
    "version": 3
   },
   "file_extension": ".py",
   "mimetype": "text/x-python",
   "name": "python",
   "nbconvert_exporter": "python",
   "pygments_lexer": "ipython3",
   "version": "3.13.3"
  }
 },
 "nbformat": 4,
 "nbformat_minor": 5
}
