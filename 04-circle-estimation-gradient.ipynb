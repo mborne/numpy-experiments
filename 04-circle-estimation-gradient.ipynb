{
 "cells": [
  {
   "cell_type": "markdown",
   "id": "2324a635-2db4-48a3-8720-21ba4f1727e1",
   "metadata": {},
   "source": [
    "# 04-circle-estimation-gradient\n",
    "\n",
    "> Start point : [docs.pytorch.org - beginner - Learning PyTorch with Examples](https://docs.pytorch.org/tutorials/beginner/pytorch_with_examples.html)) dealing with polynomial estimation of sin(x)\n",
    "\n",
    "Estimate circle parameters using gradient descent with symbolic differentiation (before testing autograd from pytorch).\n"
   ]
  },
  {
   "cell_type": "code",
   "execution_count": 9,
   "id": "b418932c-64fe-4d5e-9171-d08840ea6d74",
   "metadata": {},
   "outputs": [
    {
     "name": "stdout",
     "output_type": "stream",
     "text": [
      "t=0: cx=-0.7006222598085202, cy=-0.7337608670693109, r=-0.3752612911568907, loss=10752676.894533634\n",
      "t=1000: cx=1.999999999685718, cy=3.1882911724651466, r=-4.873511200734782, loss=687.5759957658919\n",
      "t=2000: cx=1.9999999999999944, cy=3.0130652678205156, r=-4.9911058770300265, loss=3.3084871449634488\n",
      "t=3000: cx=1.9999999999999944, cy=3.0009214055045157, r=-4.999372201443845, loss=0.01645412671898246\n",
      "t=4000: cx=1.9999999999999944, cy=3.000065052562655, r=-4.999955673751281, loss=8.201639324951463e-05\n",
      "t=5000: cx=1.9999999999999944, cy=3.0000045931635535, r=-4.999996870244658, loss=4.0887971928292317e-07\n",
      "t=6000: cx=1.9999999999999944, cy=3.00000032431109, r=-4.999999779016211, loss=2.0384278446581525e-09\n",
      "t=7000: cx=1.9999999999999944, cy=3.0000000228987567, r=-4.999999984396914, loss=1.016238226823946e-11\n",
      "t=8000: cx=1.9999999999999944, cy=3.000000001616821, r=-4.999999998898309, loss=5.066349196607354e-14\n",
      "t=9000: cx=1.9999999999999944, cy=3.000000000114156, r=-4.999999999922214, loss=2.5256272224631437e-16\n",
      "Result: cx=1.9999999999999944, cy=3.0000000000080638, r=-4.999999999994505, loss=1.2669046588065e-18\n"
     ]
    }
   ],
   "source": [
    "# -*- coding: utf-8 -*-\n",
    "import numpy as np\n",
    "import math\n",
    "import matplotlib.pyplot as plt\n",
    "\n",
    "# Create N points on circle with cx=2, cy=3 and r=5\n",
    "N=2000\n",
    "theta=np.linspace(0., math.pi, N)\n",
    "x = 2 + 5 * np.cos(theta)\n",
    "y = 3 + 5 * np.sin(theta)\n",
    "\n",
    "# Randomly initialize params\n",
    "cx = np.random.randn()\n",
    "cy = np.random.randn()\n",
    "r  = np.random.randn()\n",
    "\n",
    "num_epoch=10000\n",
    "learning_rate = 1e-7\n",
    "for t in range(num_epoch):\n",
    "    # Compute error\n",
    "    # Ek = ( ( xk - cx )^2 + ( yk - cy )^2 - r^2 )^2\n",
    "    deltas = np.square( x - cx ) + np.square( y - cy ) - np.square( r )\n",
    "    loss = np.square(deltas).sum()\n",
    "    if t % 1000 == 0:\n",
    "        print(f't={t}: cx={cx}, cy={cy}, r={r}, loss={loss}')\n",
    "\n",
    "    # Compute grads for each parameters using math (Symbolic Differentiation)\n",
    "    # Note : autograd in PyTorch from aims at avoiding this (Automatic Differention)\n",
    "\n",
    "    # dEk / dcx = - 4 * ( xk - cx ) * ( ( xk - cx )^2 + ( yk - cy )^2 - r^2 )\n",
    "    # dEk / dcy = - 4 * ( yk - cy ) * ( ( xk - cx )^2 + ( yk - cy )^2 - r^2 )\n",
    "    # dEk / dr  = - 4 * r  * ( ( xk - cx )^2 + ( yk - cy )^2 - r^2 )\n",
    "    grad_cx = ( -4 * ( x - cx ) * deltas ).sum()\n",
    "    grad_cy = ( -4 * ( y - cy ) * deltas ).sum()\n",
    "    grad_r  = ( -4 * r * deltas ).sum()\n",
    "\n",
    "    # Update weights\n",
    "    cx -= learning_rate * grad_cx\n",
    "    cy -= learning_rate * grad_cy\n",
    "    r  -= learning_rate * grad_r\n",
    "\n",
    "print(f'Result: cx={cx}, cy={cy}, r={r}, loss={loss}')\n",
    "\n"
   ]
  },
  {
   "cell_type": "code",
   "execution_count": null,
   "id": "7b032cac-481a-4541-957d-bd10133bfd9d",
   "metadata": {},
   "outputs": [],
   "source": []
  }
 ],
 "metadata": {
  "kernelspec": {
   "display_name": "Python 3 (ipykernel)",
   "language": "python",
   "name": "python3"
  },
  "language_info": {
   "codemirror_mode": {
    "name": "ipython",
    "version": 3
   },
   "file_extension": ".py",
   "mimetype": "text/x-python",
   "name": "python",
   "nbconvert_exporter": "python",
   "pygments_lexer": "ipython3",
   "version": "3.13.3"
  }
 },
 "nbformat": 4,
 "nbformat_minor": 5
}
