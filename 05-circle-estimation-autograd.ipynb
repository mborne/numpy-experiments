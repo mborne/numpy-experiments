{
 "cells": [
  {
   "cell_type": "markdown",
   "id": "2324a635-2db4-48a3-8720-21ba4f1727e1",
   "metadata": {},
   "source": [
    "# 05-circle-estimation-autograd\n",
    "\n",
    "> Start point : [docs.pytorch.org - beginner - Learning PyTorch with Examples - Autograd](https://docs.pytorch.org/tutorials/beginner/pytorch_with_examples.html#pytorch-tensors-and-autograd) dealing with polynomial estimation of sin(x)\n",
    "\n",
    "Estimate circle parameters using gradient descent with autograd feature from PyTorch.\n"
   ]
  },
  {
   "cell_type": "code",
   "execution_count": 32,
   "id": "b418932c-64fe-4d5e-9171-d08840ea6d74",
   "metadata": {},
   "outputs": [
    {
     "name": "stdout",
     "output_type": "stream",
     "text": [
      "Using cpu device\n",
      "t=0: cx=1.4057132005691528, cy=2.1360626220703125, r=0.3973696827888489, loss=2026307.25\n",
      "t=1000: cx=1.9999970197677612, cy=3.208176851272583, r=4.8603715896606445, loss=840.5305786132812\n",
      "t=2000: cx=1.9999970197677612, cy=3.014418125152588, r=4.9901862144470215, loss=4.029067516326904\n",
      "t=3000: cx=1.9999970197677612, cy=3.001028060913086, r=4.999298095703125, loss=0.020513275638222694\n",
      "t=4000: cx=1.9999970197677612, cy=3.0000791549682617, r=4.999943733215332, loss=0.00012671812146436423\n",
      "t=5000: cx=1.9999970197677612, cy=3.000070810317993, r=4.999948978424072, loss=0.00010280196147505194\n",
      "t=6000: cx=1.9999970197677612, cy=3.000070810317993, r=4.999948978424072, loss=0.00010280196147505194\n",
      "t=7000: cx=1.9999970197677612, cy=3.000070810317993, r=4.999948978424072, loss=0.00010280196147505194\n",
      "t=8000: cx=1.9999970197677612, cy=3.000070810317993, r=4.999948978424072, loss=0.00010280196147505194\n",
      "t=9000: cx=1.9999970197677612, cy=3.000070810317993, r=4.999948978424072, loss=0.00010280196147505194\n",
      "Result: cx=1.9999970197677612, cy=3.000070810317993, r=4.999948978424072, loss=0.00010280196147505194\n"
     ]
    }
   ],
   "source": [
    "# -*- coding: utf-8 -*-\n",
    "import torch\n",
    "import math\n",
    "import matplotlib.pyplot as plt\n",
    "\n",
    "# Use GPU if available\n",
    "dtype = torch.float\n",
    "device = torch.accelerator.current_accelerator().type if torch.accelerator.is_available() else \"cpu\"\n",
    "print(f\"Using {device} device\")\n",
    "torch.set_default_device(device)\n",
    "\n",
    "# Create N points on circle with cx=2, cy=3 and r=5\n",
    "N=2000\n",
    "theta=torch.linspace(0., math.pi, N, dtype=dtype)\n",
    "x = 2.0 + 5. * torch.cos(theta)\n",
    "y = 3.0 + 5. * torch.sin(theta)\n",
    "\n",
    "# Create scalar tensor for params tracking ops to compute grad \n",
    "cx = torch.randn((), dtype=dtype, requires_grad=True)\n",
    "cy = torch.randn((), dtype=dtype, requires_grad=True)\n",
    "r  = torch.randn((), dtype=dtype, requires_grad=True)\n",
    "\n",
    "num_epoch=10000\n",
    "learning_rate = 1e-7\n",
    "for t in range(num_epoch):\n",
    "    # Compute loss\n",
    "    # Ek = y - cy * torch.ones(N)( ( xk - cx )^2 + ( yk - cy )^2 - r^2 )^2\n",
    "    loss = ( torch.square( x - cx ) + torch.square( y - cy ) - torch.square( r ) ).square().sum()\n",
    "    if t % 1000 == 0:\n",
    "        print(f't={t}: cx={cx.item()}, cy={cy.item()}, r={r.item()}, loss={loss.item()}')\n",
    "\n",
    "    # Compute grad of cx, cy and r with respect to loss\n",
    "    loss.backward();\n",
    "\n",
    "    with torch.no_grad():\n",
    "        # Update params\n",
    "        cx -= learning_rate * cx.grad\n",
    "        cy -= learning_rate * cy.grad\n",
    "        r  -= learning_rate * r.grad\n",
    "\n",
    "        cx.grad = None\n",
    "        cy.grad = None\n",
    "        r.grad = None\n",
    "\n",
    "print(f'Result: cx={cx.item()}, cy={cy.item()}, r={r.item()}, loss={loss.item()}')\n",
    "\n",
    "\n"
   ]
  },
  {
   "cell_type": "code",
   "execution_count": null,
   "id": "7b032cac-481a-4541-957d-bd10133bfd9d",
   "metadata": {},
   "outputs": [],
   "source": []
  },
  {
   "cell_type": "code",
   "execution_count": null,
   "id": "69593906-1ae5-4a95-a865-d7a5d9b5fc2b",
   "metadata": {},
   "outputs": [],
   "source": []
  }
 ],
 "metadata": {
  "kernelspec": {
   "display_name": "Python 3 (ipykernel)",
   "language": "python",
   "name": "python3"
  },
  "language_info": {
   "codemirror_mode": {
    "name": "ipython",
    "version": 3
   },
   "file_extension": ".py",
   "mimetype": "text/x-python",
   "name": "python",
   "nbconvert_exporter": "python",
   "pygments_lexer": "ipython3",
   "version": "3.13.3"
  }
 },
 "nbformat": 4,
 "nbformat_minor": 5
}
